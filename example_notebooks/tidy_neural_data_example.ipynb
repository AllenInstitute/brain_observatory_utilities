{
 "cells": [
  {
   "cell_type": "markdown",
   "metadata": {},
   "source": [
    "# Tidy neural data example use\n",
    "The following notebook demonstrates an example use case for the `mindscope_utilities.ophys.tidy_cell_df` function.  \n",
    "\n",
    "This function is designed to convert the neural data from an AllenSDK BehaviorOphysExperiment object into tidy format. This facilitates combining data from multiple experiments, given that the timestamps need not be consistent across all cells."
   ]
  },
  {
   "cell_type": "code",
   "execution_count": 1,
   "metadata": {},
   "outputs": [],
   "source": [
    "import pandas as pd\n",
    "import matplotlib.pyplot as plt\n",
    "import seaborn as sns\n",
    "import numpy as np\n",
    "from tqdm import tqdm\n",
    "\n",
    "import allensdk.brain_observatory.behavior.behavior_project_cache as bpc\n",
    "from mindscope_utilities import event_triggered_response\n",
    "from mindscope_utilities import ophys"
   ]
  },
  {
   "cell_type": "markdown",
   "metadata": {},
   "source": [
    "# Get an experiment\n",
    "## First load the Allen Visual Behavior cache"
   ]
  },
  {
   "cell_type": "code",
   "execution_count": 4,
   "metadata": {},
   "outputs": [],
   "source": [
    "data_storage_directory = \"temp\" # Note: this path must exist on your local drive\n",
    "cache = bpc.VisualBehaviorOphysProjectCache.from_s3_cache(cache_dir=data_storage_directory)"
   ]
  },
  {
   "cell_type": "markdown",
   "metadata": {},
   "source": [
    "## Then load a specific experiment"
   ]
  },
  {
   "cell_type": "code",
   "execution_count": 5,
   "metadata": {},
   "outputs": [
    {
     "name": "stderr",
     "output_type": "stream",
     "text": [
      "behavior_ophys_experiment_993619364.nwb: 100%|██████████| 330M/330M [00:25<00:00, 13.1MMB/s]    \n"
     ]
    }
   ],
   "source": [
    "ophys_experiment_id = 993619364\n",
    "experiment = cache.get_behavior_ophys_experiment(ophys_experiment_id)"
   ]
  },
  {
   "cell_type": "markdown",
   "metadata": {},
   "source": [
    "## Now build a tidy dataframe of neural responses\n",
    "This gives columns for deltaF/F (`dff`), extracted events (`events`), and extracted events after convolution with a half-gaussian filter (`filtered_events`)"
   ]
  },
  {
   "cell_type": "code",
   "execution_count": 6,
   "metadata": {},
   "outputs": [],
   "source": [
    "tidy_data = ophys.build_tidy_cell_df(experiment)"
   ]
  },
  {
   "cell_type": "markdown",
   "metadata": {},
   "source": [
    "## View the structure of the resulting dataframe"
   ]
  },
  {
   "cell_type": "code",
   "execution_count": 7,
   "metadata": {},
   "outputs": [
    {
     "data": {
      "text/html": [
       "<div>\n",
       "<style scoped>\n",
       "    .dataframe tbody tr th:only-of-type {\n",
       "        vertical-align: middle;\n",
       "    }\n",
       "\n",
       "    .dataframe tbody tr th {\n",
       "        vertical-align: top;\n",
       "    }\n",
       "\n",
       "    .dataframe thead th {\n",
       "        text-align: right;\n",
       "    }\n",
       "</style>\n",
       "<table border=\"1\" class=\"dataframe\">\n",
       "  <thead>\n",
       "    <tr style=\"text-align: right;\">\n",
       "      <th></th>\n",
       "      <th>timestamps</th>\n",
       "      <th>cell_roi_id</th>\n",
       "      <th>cell_specimen_id</th>\n",
       "      <th>dff</th>\n",
       "      <th>events</th>\n",
       "      <th>filtered_events</th>\n",
       "    </tr>\n",
       "  </thead>\n",
       "  <tbody>\n",
       "    <tr>\n",
       "      <th>0</th>\n",
       "      <td>8.62960</td>\n",
       "      <td>1080653389</td>\n",
       "      <td>1086539735</td>\n",
       "      <td>0.206416</td>\n",
       "      <td>0.0</td>\n",
       "      <td>0.0</td>\n",
       "    </tr>\n",
       "    <tr>\n",
       "      <th>1</th>\n",
       "      <td>8.72280</td>\n",
       "      <td>1080653389</td>\n",
       "      <td>1086539735</td>\n",
       "      <td>0.290760</td>\n",
       "      <td>0.0</td>\n",
       "      <td>0.0</td>\n",
       "    </tr>\n",
       "    <tr>\n",
       "      <th>2</th>\n",
       "      <td>8.81601</td>\n",
       "      <td>1080653389</td>\n",
       "      <td>1086539735</td>\n",
       "      <td>0.364915</td>\n",
       "      <td>0.0</td>\n",
       "      <td>0.0</td>\n",
       "    </tr>\n",
       "    <tr>\n",
       "      <th>3</th>\n",
       "      <td>8.90921</td>\n",
       "      <td>1080653389</td>\n",
       "      <td>1086539735</td>\n",
       "      <td>0.013018</td>\n",
       "      <td>0.0</td>\n",
       "      <td>0.0</td>\n",
       "    </tr>\n",
       "    <tr>\n",
       "      <th>4</th>\n",
       "      <td>9.00242</td>\n",
       "      <td>1080653389</td>\n",
       "      <td>1086539735</td>\n",
       "      <td>0.273925</td>\n",
       "      <td>0.0</td>\n",
       "      <td>0.0</td>\n",
       "    </tr>\n",
       "    <tr>\n",
       "      <th>...</th>\n",
       "      <td>...</td>\n",
       "      <td>...</td>\n",
       "      <td>...</td>\n",
       "      <td>...</td>\n",
       "      <td>...</td>\n",
       "      <td>...</td>\n",
       "    </tr>\n",
       "    <tr>\n",
       "      <th>48347</th>\n",
       "      <td>4515.95622</td>\n",
       "      <td>1080653507</td>\n",
       "      <td>1086519427</td>\n",
       "      <td>0.009673</td>\n",
       "      <td>0.0</td>\n",
       "      <td>0.0</td>\n",
       "    </tr>\n",
       "    <tr>\n",
       "      <th>48348</th>\n",
       "      <td>4516.04945</td>\n",
       "      <td>1080653507</td>\n",
       "      <td>1086519427</td>\n",
       "      <td>0.215211</td>\n",
       "      <td>0.0</td>\n",
       "      <td>0.0</td>\n",
       "    </tr>\n",
       "    <tr>\n",
       "      <th>48349</th>\n",
       "      <td>4516.14268</td>\n",
       "      <td>1080653507</td>\n",
       "      <td>1086519427</td>\n",
       "      <td>0.133815</td>\n",
       "      <td>0.0</td>\n",
       "      <td>0.0</td>\n",
       "    </tr>\n",
       "    <tr>\n",
       "      <th>48350</th>\n",
       "      <td>4516.23591</td>\n",
       "      <td>1080653507</td>\n",
       "      <td>1086519427</td>\n",
       "      <td>0.282727</td>\n",
       "      <td>0.0</td>\n",
       "      <td>0.0</td>\n",
       "    </tr>\n",
       "    <tr>\n",
       "      <th>48351</th>\n",
       "      <td>4516.32914</td>\n",
       "      <td>1080653507</td>\n",
       "      <td>1086519427</td>\n",
       "      <td>0.153517</td>\n",
       "      <td>0.0</td>\n",
       "      <td>0.0</td>\n",
       "    </tr>\n",
       "  </tbody>\n",
       "</table>\n",
       "<p>3094528 rows × 6 columns</p>\n",
       "</div>"
      ],
      "text/plain": [
       "       timestamps  cell_roi_id  cell_specimen_id       dff  events  \\\n",
       "0         8.62960   1080653389        1086539735  0.206416     0.0   \n",
       "1         8.72280   1080653389        1086539735  0.290760     0.0   \n",
       "2         8.81601   1080653389        1086539735  0.364915     0.0   \n",
       "3         8.90921   1080653389        1086539735  0.013018     0.0   \n",
       "4         9.00242   1080653389        1086539735  0.273925     0.0   \n",
       "...           ...          ...               ...       ...     ...   \n",
       "48347  4515.95622   1080653507        1086519427  0.009673     0.0   \n",
       "48348  4516.04945   1080653507        1086519427  0.215211     0.0   \n",
       "48349  4516.14268   1080653507        1086519427  0.133815     0.0   \n",
       "48350  4516.23591   1080653507        1086519427  0.282727     0.0   \n",
       "48351  4516.32914   1080653507        1086519427  0.153517     0.0   \n",
       "\n",
       "       filtered_events  \n",
       "0                  0.0  \n",
       "1                  0.0  \n",
       "2                  0.0  \n",
       "3                  0.0  \n",
       "4                  0.0  \n",
       "...                ...  \n",
       "48347              0.0  \n",
       "48348              0.0  \n",
       "48349              0.0  \n",
       "48350              0.0  \n",
       "48351              0.0  \n",
       "\n",
       "[3094528 rows x 6 columns]"
      ]
     },
     "execution_count": 7,
     "metadata": {},
     "output_type": "execute_result"
    }
   ],
   "source": [
    "tidy_data"
   ]
  },
  {
   "cell_type": "markdown",
   "metadata": {},
   "source": [
    "## View the unique cell IDs\n",
    "This experiment has 64 unique cells"
   ]
  },
  {
   "cell_type": "code",
   "execution_count": 8,
   "metadata": {},
   "outputs": [
    {
     "data": {
      "text/plain": [
       "array([1080653389, 1080653390, 1080653391, 1080653392, 1080653393,\n",
       "       1080653397, 1080653399, 1080653401, 1080653402, 1080653403,\n",
       "       1080653404, 1080653406, 1080653409, 1080653412, 1080653414,\n",
       "       1080653416, 1080653418, 1080653419, 1080653420, 1080653421,\n",
       "       1080653422, 1080653424, 1080653425, 1080653426, 1080653431,\n",
       "       1080653433, 1080653434, 1080653435, 1080653436, 1080653441,\n",
       "       1080653442, 1080653446, 1080653448, 1080653449, 1080653450,\n",
       "       1080653451, 1080653453, 1080653456, 1080653457, 1080653458,\n",
       "       1080653459, 1080653460, 1080653461, 1080653462, 1080653463,\n",
       "       1080653464, 1080653465, 1080653467, 1080653468, 1080653469,\n",
       "       1080653470, 1080653476, 1080653481, 1080653483, 1080653484,\n",
       "       1080653487, 1080653489, 1080653491, 1080653492, 1080653495,\n",
       "       1080653497, 1080653501, 1080653506, 1080653507])"
      ]
     },
     "execution_count": 8,
     "metadata": {},
     "output_type": "execute_result"
    }
   ],
   "source": [
    "tidy_data['cell_roi_id'].unique()"
   ]
  },
  {
   "cell_type": "code",
   "execution_count": 9,
   "metadata": {},
   "outputs": [
    {
     "data": {
      "text/plain": [
       "64"
      ]
     },
     "execution_count": 9,
     "metadata": {},
     "output_type": "execute_result"
    }
   ],
   "source": [
    "len(tidy_data['cell_roi_id'].unique())"
   ]
  },
  {
   "cell_type": "markdown",
   "metadata": {},
   "source": [
    "## Make a plot of one cell's DeltaF/F response over time"
   ]
  },
  {
   "cell_type": "code",
   "execution_count": 10,
   "metadata": {},
   "outputs": [
    {
     "data": {
      "text/plain": [
       "<AxesSubplot:xlabel='timestamps'>"
      ]
     },
     "execution_count": 10,
     "metadata": {},
     "output_type": "execute_result"
    },
    {
     "data": {
      "image/png": "[encoded data removed]",
      "text/plain": [
       "<Figure size 432x288 with 1 Axes>"
      ]
     },
     "metadata": {
      "needs_background": "light"
     },
     "output_type": "display_data"
    }
   ],
   "source": [
    "data_to_plot = tidy_data.query('cell_roi_id == {}'.format(tidy_data['cell_roi_id'].unique()[1]))\n",
    "data_to_plot.plot(\n",
    "    x = 'timestamps',\n",
    "    y = 'dff'\n",
    ")"
   ]
  },
  {
   "cell_type": "code",
   "execution_count": null,
   "metadata": {},
   "outputs": [],
   "source": []
  }
 ],
 "metadata": {
  "kernelspec": {
   "display_name": "mindscope_utilities",
   "language": "python",
   "name": "mindscope_utilities"
  },
  "language_info": {
   "codemirror_mode": {
    "name": "ipython",
    "version": 3
   },
   "file_extension": ".py",
   "mimetype": "text/x-python",
   "name": "python",
   "nbconvert_exporter": "python",
   "pygments_lexer": "ipython3",
   "version": "3.8.10"
  }
 },
 "nbformat": 4,
 "nbformat_minor": 4
}
